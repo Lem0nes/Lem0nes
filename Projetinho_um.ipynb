{
  "nbformat": 4,
  "nbformat_minor": 0,
  "metadata": {
    "colab": {
      "name": "Untitled1.ipynb",
      "provenance": [],
      "collapsed_sections": [],
      "mount_file_id": "1fY1ISVpaKoFDJnFMJ1TPaa2YDOCgkm-J",
      "authorship_tag": "ABX9TyPWst6FTCcDrlUk/XG04a3e",
      "include_colab_link": true
    },
    "kernelspec": {
      "name": "python3",
      "display_name": "Python 3"
    },
    "language_info": {
      "name": "python"
    }
  },
  "cells": [
    {
      "cell_type": "markdown",
      "metadata": {
        "id": "view-in-github",
        "colab_type": "text"
      },
      "source": [
        "<a href=\"https://colab.research.google.com/github/Lem0nes/Lem0nes/blob/main/Projetinho_um.ipynb\" target=\"_parent\"><img src=\"https://colab.research.google.com/assets/colab-badge.svg\" alt=\"Open In Colab\"/></a>"
      ]
    },
    {
      "cell_type": "code",
      "metadata": {
        "id": "-81dp4pijxKE"
      },
      "source": [
        "import pandas as pd\n",
        "import smtplib\n",
        "import email.message\n",
        "from email.message import Message\n",
        "\n",
        "lojas =  df['ID Loja'].unique()\n",
        "\n",
        "def enviar_email(resumo_loja, loja, email):\n",
        "\n",
        "  server = smtplib.SMTP('smtp.gmail.com:587')\n",
        "  email_content = f'''\n",
        "  <p>Relatório das lojas<p>\n",
        "  {resumo_loja.to_html()}\n",
        "  <p>Desde já agradecido.<p>'''\n",
        "\n",
        "\n",
        "  msg = Message()\n",
        "  msg['subject'] = f'Antônio Fagundes - Loja: {lojas}'\n",
        "\n",
        "  msg['From'] = '' #Aqui você pode inserir o seu e-mail\n",
        "  msg['To'] = email #Aqui o e-mail do destinatário\n",
        "\n",
        "# Aqui a senha do seu e-mail para o código ter acesso e poder enviar a mensagem\n",
        "# Muito cuidado! É a senha do seu e-mail!!!\n",
        "# Teste esse código com e-mail alternativo sem muita utilidade\n",
        "  password = ''\n",
        "  msg.add_header('Content-Type', 'text/html')\n",
        "  msg.set_payload(email_content)\n",
        "\n",
        "  s = smtplib.SMTP('smtp.gmail.com: 587')\n",
        "  s.starttls()\n",
        "  # Credenciais de login para enviar o e-mail\n",
        "  s.login(msg['From'], password)\n",
        "  s.sendmail(msg['From'], [msg['To']], msg.as_string().encode('utf-8'))\n",
        "\n",
        "df = pd.read_excel(r'/content/Vendas.xlsx')\n",
        "\n",
        "lista_emails = df['ID Loja'].unique()\n",
        "\n",
        "for i, loja in enumerate(lojas):\n",
        "  tabela_loja = df.loc[df['ID Loja'] == loja, ['ID Loja', 'Quantidade', 'Valor Final']]\n",
        "  resumo_loja = tabela_loja.groupby('ID Loja').sum()\n",
        "  resumo_loja['Ticket Médio'] = resumo_loja['Valor Final'] / resumo_loja['Quantidade']\n",
        "  enviar_email(resumo_loja, loja, lista_emails[i])\n",
        "\n",
        "# email para diretoria\n",
        "\n",
        "tabela_diretoria = faturamento.join(quantidade).join(ticket_medio)\n",
        "enviar_email(tabela_diretoria, 'Todas as Lojas')\n",
        "\n"
      ],
      "execution_count": null,
      "outputs": []
    },
    {
      "cell_type": "code",
      "metadata": {
        "id": "kQGEI0SvkH55"
      },
      "source": [
        "df = pd.read_excel(r'/content/Vendas.xlsx')\n",
        "display(df)"
      ],
      "execution_count": null,
      "outputs": []
    },
    {
      "cell_type": "code",
      "metadata": {
        "id": "gPmG11OAlhFK"
      },
      "source": [
        "faturamento = df[['ID Loja', 'Valor Final']].groupby('ID Loja').sum()\n",
        "faturamento = faturamento.sort_values(by='Valor Final', ascending = False)\n",
        "display(faturamento)"
      ],
      "execution_count": null,
      "outputs": []
    },
    {
      "cell_type": "code",
      "metadata": {
        "id": "AJ10o2LAmHcS"
      },
      "source": [
        "quantidade = df[['ID Loja', 'Quantidade']].groupby('ID Loja').sum()\n",
        "quantidade = quantidade.sort_values(by='ID Loja', ascending = False)\n",
        "display(quantidade)"
      ],
      "execution_count": null,
      "outputs": []
    },
    {
      "cell_type": "code",
      "metadata": {
        "id": "_J1cIHTmmu0A"
      },
      "source": [
        "ticket_medio = (faturamento['Valor Final'] / quantidade['Quantidade']).to_frame()\n",
        "ticket_medio = ticket_medio.rename(columns={0: 'Ticket Medio'})\n",
        "ticket_medio = ticket_medio.sort_values(by = 'Ticket Medio', ascending = False)\n",
        "display(ticket_medio)"
      ],
      "execution_count": null,
      "outputs": []
    }
  ]
}